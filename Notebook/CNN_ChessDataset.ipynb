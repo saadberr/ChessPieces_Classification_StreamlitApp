{
 "cells": [
  {
   "cell_type": "markdown",
   "id": "0cc2ecdb",
   "metadata": {},
   "source": [
    "# CNN Chess pieces Classification"
   ]
  },
  {
   "cell_type": "markdown",
   "id": "c9506526",
   "metadata": {},
   "source": [
    "### Realised by :\n",
    "**- Berrissoul Saad**\n",
    "</br>\n",
    "**- Jehbali Youssef**"
   ]
  },
  {
   "cell_type": "markdown",
   "id": "5be6d744",
   "metadata": {},
   "source": [
    "### Class : DATA-INE2"
   ]
  },
  {
   "cell_type": "markdown",
   "id": "9fcd92cf",
   "metadata": {
    "id": "9fcd92cf"
   },
   "source": [
    "## I - Preparing images "
   ]
  },
  {
   "cell_type": "markdown",
   "id": "dc03e797",
   "metadata": {
    "id": "dc03e797"
   },
   "source": [
    "### Import Libraries :"
   ]
  },
  {
   "cell_type": "code",
   "execution_count": null,
   "id": "d00a7b16",
   "metadata": {
    "id": "d00a7b16"
   },
   "outputs": [],
   "source": [
    "import numpy as np\n",
    "import matplotlib.pyplot as plt\n",
    "import pandas as pd\n",
    "import seaborn as sns"
   ]
  },
  {
   "cell_type": "code",
   "execution_count": null,
   "id": "fc28df60",
   "metadata": {
    "id": "fc28df60"
   },
   "outputs": [],
   "source": [
    "import tensorflow as tf\n",
    "from tensorflow import keras\n",
    "from keras import datasets, layers, models\n",
    "from keras.preprocessing.image import ImageDataGenerator\n",
    "from keras.callbacks import EarlyStopping"
   ]
  },
  {
   "cell_type": "code",
   "execution_count": null,
   "id": "91efb901",
   "metadata": {
    "id": "91efb901"
   },
   "outputs": [],
   "source": [
    "import itertools\n",
    "import os\n",
    "import shutil\n",
    "from PIL import Image"
   ]
  },
  {
   "cell_type": "code",
   "execution_count": null,
   "id": "1beaba8d",
   "metadata": {
    "id": "1beaba8d"
   },
   "outputs": [],
   "source": [
    "import warnings\n",
    "warnings.filterwarnings('ignore')"
   ]
  },
  {
   "cell_type": "markdown",
   "id": "e6f69e97",
   "metadata": {
    "id": "e6f69e97"
   },
   "source": [
    "### 1 - Split Data into train-test-valid :"
   ]
  },
  {
   "cell_type": "code",
   "execution_count": null,
   "id": "OjNiSf7mk45Y",
   "metadata": {
    "id": "OjNiSf7mk45Y"
   },
   "outputs": [],
   "source": [
    "import zipfile\n",
    "with zipfile.ZipFile(\"ChessDataset.zip\",\"r\") as zip_ref:\n",
    "  zip_ref.extractall()"
   ]
  },
  {
   "cell_type": "code",
   "execution_count": null,
   "id": "a6176827",
   "metadata": {
    "colab": {
     "base_uri": "https://localhost:8080/",
     "height": 35
    },
    "id": "a6176827",
    "outputId": "08fbdf43-8fa2-4b27-fc8f-554b83f2dc1f"
   },
   "outputs": [
    {
     "data": {
      "application/vnd.google.colaboratory.intrinsic+json": {
       "type": "string"
      },
      "text/plain": [
       "'/content'"
      ]
     },
     "execution_count": 6,
     "metadata": {},
     "output_type": "execute_result"
    }
   ],
   "source": [
    "os.getcwd()"
   ]
  },
  {
   "cell_type": "code",
   "execution_count": null,
   "id": "bea50561",
   "metadata": {
    "id": "bea50561"
   },
   "outputs": [],
   "source": [
    "os.chdir(\"/content/Chessman-image-dataset/Chess\")"
   ]
  },
  {
   "cell_type": "code",
   "execution_count": null,
   "id": "171e384b",
   "metadata": {
    "colab": {
     "base_uri": "https://localhost:8080/"
    },
    "id": "171e384b",
    "outputId": "d77bc57d-1473-4612-879c-0545dc9ca204"
   },
   "outputs": [
    {
     "name": "stdout",
     "output_type": "stream",
     "text": [
      "list of directories :\n",
      " ['Queen', 'Pawn', 'Knight', 'Bishop', 'King', 'Rook']\n"
     ]
    }
   ],
   "source": [
    "dirs = os.listdir()\n",
    "print('list of directories :\\n',dirs)"
   ]
  },
  {
   "cell_type": "code",
   "execution_count": null,
   "id": "u70h56hW5xKH",
   "metadata": {
    "id": "u70h56hW5xKH"
   },
   "outputs": [],
   "source": [
    "classes = ['Bishop', 'King', 'Knight', 'Pawn', 'Queen', 'Rook']"
   ]
  },
  {
   "cell_type": "code",
   "execution_count": null,
   "id": "Gru5YZbdoJGq",
   "metadata": {
    "colab": {
     "base_uri": "https://localhost:8080/",
     "height": 238
    },
    "id": "Gru5YZbdoJGq",
    "outputId": "bcb9fd55-1523-42ec-ebe9-92e4a9d33c10"
   },
   "outputs": [
    {
     "data": {
      "text/html": [
       "\n",
       "  <div id=\"df-006be457-4aaf-41e8-9423-5021d82b9b95\">\n",
       "    <div class=\"colab-df-container\">\n",
       "      <div>\n",
       "<style scoped>\n",
       "    .dataframe tbody tr th:only-of-type {\n",
       "        vertical-align: middle;\n",
       "    }\n",
       "\n",
       "    .dataframe tbody tr th {\n",
       "        vertical-align: top;\n",
       "    }\n",
       "\n",
       "    .dataframe thead th {\n",
       "        text-align: right;\n",
       "    }\n",
       "</style>\n",
       "<table border=\"1\" class=\"dataframe\">\n",
       "  <thead>\n",
       "    <tr style=\"text-align: right;\">\n",
       "      <th></th>\n",
       "      <th>class_name</th>\n",
       "      <th>number</th>\n",
       "    </tr>\n",
       "  </thead>\n",
       "  <tbody>\n",
       "    <tr>\n",
       "      <th>3</th>\n",
       "      <td>Pawn</td>\n",
       "      <td>107</td>\n",
       "    </tr>\n",
       "    <tr>\n",
       "      <th>2</th>\n",
       "      <td>Knight</td>\n",
       "      <td>106</td>\n",
       "    </tr>\n",
       "    <tr>\n",
       "      <th>5</th>\n",
       "      <td>Rook</td>\n",
       "      <td>102</td>\n",
       "    </tr>\n",
       "    <tr>\n",
       "      <th>0</th>\n",
       "      <td>Bishop</td>\n",
       "      <td>87</td>\n",
       "    </tr>\n",
       "    <tr>\n",
       "      <th>4</th>\n",
       "      <td>Queen</td>\n",
       "      <td>78</td>\n",
       "    </tr>\n",
       "    <tr>\n",
       "      <th>1</th>\n",
       "      <td>King</td>\n",
       "      <td>76</td>\n",
       "    </tr>\n",
       "  </tbody>\n",
       "</table>\n",
       "</div>\n",
       "      <button class=\"colab-df-convert\" onclick=\"convertToInteractive('df-006be457-4aaf-41e8-9423-5021d82b9b95')\"\n",
       "              title=\"Convert this dataframe to an interactive table.\"\n",
       "              style=\"display:none;\">\n",
       "        \n",
       "  <svg xmlns=\"http://www.w3.org/2000/svg\" height=\"24px\"viewBox=\"0 0 24 24\"\n",
       "       width=\"24px\">\n",
       "    <path d=\"M0 0h24v24H0V0z\" fill=\"none\"/>\n",
       "    <path d=\"M18.56 5.44l.94 2.06.94-2.06 2.06-.94-2.06-.94-.94-2.06-.94 2.06-2.06.94zm-11 1L8.5 8.5l.94-2.06 2.06-.94-2.06-.94L8.5 2.5l-.94 2.06-2.06.94zm10 10l.94 2.06.94-2.06 2.06-.94-2.06-.94-.94-2.06-.94 2.06-2.06.94z\"/><path d=\"M17.41 7.96l-1.37-1.37c-.4-.4-.92-.59-1.43-.59-.52 0-1.04.2-1.43.59L10.3 9.45l-7.72 7.72c-.78.78-.78 2.05 0 2.83L4 21.41c.39.39.9.59 1.41.59.51 0 1.02-.2 1.41-.59l7.78-7.78 2.81-2.81c.8-.78.8-2.07 0-2.86zM5.41 20L4 18.59l7.72-7.72 1.47 1.35L5.41 20z\"/>\n",
       "  </svg>\n",
       "      </button>\n",
       "      \n",
       "  <style>\n",
       "    .colab-df-container {\n",
       "      display:flex;\n",
       "      flex-wrap:wrap;\n",
       "      gap: 12px;\n",
       "    }\n",
       "\n",
       "    .colab-df-convert {\n",
       "      background-color: #E8F0FE;\n",
       "      border: none;\n",
       "      border-radius: 50%;\n",
       "      cursor: pointer;\n",
       "      display: none;\n",
       "      fill: #1967D2;\n",
       "      height: 32px;\n",
       "      padding: 0 0 0 0;\n",
       "      width: 32px;\n",
       "    }\n",
       "\n",
       "    .colab-df-convert:hover {\n",
       "      background-color: #E2EBFA;\n",
       "      box-shadow: 0px 1px 2px rgba(60, 64, 67, 0.3), 0px 1px 3px 1px rgba(60, 64, 67, 0.15);\n",
       "      fill: #174EA6;\n",
       "    }\n",
       "\n",
       "    [theme=dark] .colab-df-convert {\n",
       "      background-color: #3B4455;\n",
       "      fill: #D2E3FC;\n",
       "    }\n",
       "\n",
       "    [theme=dark] .colab-df-convert:hover {\n",
       "      background-color: #434B5C;\n",
       "      box-shadow: 0px 1px 3px 1px rgba(0, 0, 0, 0.15);\n",
       "      filter: drop-shadow(0px 1px 2px rgba(0, 0, 0, 0.3));\n",
       "      fill: #FFFFFF;\n",
       "    }\n",
       "  </style>\n",
       "\n",
       "      <script>\n",
       "        const buttonEl =\n",
       "          document.querySelector('#df-006be457-4aaf-41e8-9423-5021d82b9b95 button.colab-df-convert');\n",
       "        buttonEl.style.display =\n",
       "          google.colab.kernel.accessAllowed ? 'block' : 'none';\n",
       "\n",
       "        async function convertToInteractive(key) {\n",
       "          const element = document.querySelector('#df-006be457-4aaf-41e8-9423-5021d82b9b95');\n",
       "          const dataTable =\n",
       "            await google.colab.kernel.invokeFunction('convertToInteractive',\n",
       "                                                     [key], {});\n",
       "          if (!dataTable) return;\n",
       "\n",
       "          const docLinkHtml = 'Like what you see? Visit the ' +\n",
       "            '<a target=\"_blank\" href=https://colab.research.google.com/notebooks/data_table.ipynb>data table notebook</a>'\n",
       "            + ' to learn more about interactive tables.';\n",
       "          element.innerHTML = '';\n",
       "          dataTable['output_type'] = 'display_data';\n",
       "          await google.colab.output.renderOutput(dataTable, element);\n",
       "          const docLink = document.createElement('div');\n",
       "          docLink.innerHTML = docLinkHtml;\n",
       "          element.appendChild(docLink);\n",
       "        }\n",
       "      </script>\n",
       "    </div>\n",
       "  </div>\n",
       "  "
      ],
      "text/plain": [
       "  class_name  number\n",
       "3       Pawn     107\n",
       "2     Knight     106\n",
       "5       Rook     102\n",
       "0     Bishop      87\n",
       "4      Queen      78\n",
       "1       King      76"
      ]
     },
     "execution_count": 10,
     "metadata": {},
     "output_type": "execute_result"
    }
   ],
   "source": [
    "# Number of instances per class\n",
    "occ = []\n",
    "for d in classes:\n",
    "    os.chdir(d)\n",
    "    occ.append([d,len(os.listdir())])\n",
    "    os.chdir('..')\n",
    "occ = pd.DataFrame(occ, columns=['class_name','number'])\n",
    "occ = occ.sort_values('number', ascending=False)\n",
    "occ"
   ]
  },
  {
   "cell_type": "code",
   "execution_count": null,
   "id": "sTMCaUJDoJOr",
   "metadata": {
    "colab": {
     "base_uri": "https://localhost:8080/",
     "height": 388
    },
    "id": "sTMCaUJDoJOr",
    "outputId": "480b230d-6538-45cb-a829-1b5021c46471"
   },
   "outputs": [
    {
     "data": {
      "image/png": "[encoded data removed]",
      "text/plain": [
       "<Figure size 576x432 with 1 Axes>"
      ]
     },
     "metadata": {
      "needs_background": "light"
     },
     "output_type": "display_data"
    }
   ],
   "source": [
    "plt.figure(figsize=(8,6))\n",
    "plt.bar(occ.class_name, occ.number)\n",
    "plt.xlabel('Class')\n",
    "plt.ylabel('Freq')\n",
    "plt.show()"
   ]
  },
  {
   "cell_type": "code",
   "execution_count": null,
   "id": "6b582e1c",
   "metadata": {
    "id": "6b582e1c"
   },
   "outputs": [],
   "source": [
    "# Create directories for train and validation sets\n",
    "for d in dirs:\n",
    "  os.makedirs('train/'+d)\n",
    "  os.makedirs('valid/'+d)"
   ]
  },
  {
   "cell_type": "code",
   "execution_count": null,
   "id": "947c2be3",
   "metadata": {
    "id": "947c2be3"
   },
   "outputs": [],
   "source": [
    "# Fill those repositories\n",
    "for d in dirs:\n",
    "    os.chdir(d)\n",
    "    for image in os.listdir()[:20]:\n",
    "        shutil.copy(image, '../valid/'+d)\n",
    "    for image in os.listdir()[20:]:\n",
    "        shutil.copy(image, '../train/'+d)\n",
    "    os.chdir('..')"
   ]
  },
  {
   "cell_type": "code",
   "execution_count": null,
   "id": "4877bf6f",
   "metadata": {
    "colab": {
     "base_uri": "https://localhost:8080/"
    },
    "id": "4877bf6f",
    "outputId": "5831eef4-d331-438e-86d7-97dd011836ff"
   },
   "outputs": [
    {
     "data": {
      "text/plain": [
       "['valid', 'Queen', 'train', 'Pawn', 'Knight', 'Bishop', 'King', 'Rook']"
      ]
     },
     "execution_count": 16,
     "metadata": {},
     "output_type": "execute_result"
    }
   ],
   "source": [
    "os.listdir()"
   ]
  },
  {
   "cell_type": "code",
   "execution_count": null,
   "id": "9f2c2562",
   "metadata": {
    "id": "9f2c2562"
   },
   "outputs": [],
   "source": [
    "train_path = 'train'\n",
    "valid_path = 'valid'"
   ]
  },
  {
   "cell_type": "code",
   "execution_count": null,
   "id": "b-ITb-F-4kK1",
   "metadata": {
    "id": "b-ITb-F-4kK1"
   },
   "outputs": [],
   "source": [
    "# We will normalize images size to 40x40\n",
    "img_size = 40"
   ]
  },
  {
   "cell_type": "code",
   "execution_count": null,
   "id": "8fa830a5",
   "metadata": {
    "colab": {
     "base_uri": "https://localhost:8080/"
    },
    "id": "8fa830a5",
    "outputId": "e76e6fb6-44cc-4995-baf5-ad30fc6fb980"
   },
   "outputs": [
    {
     "name": "stdout",
     "output_type": "stream",
     "text": [
      "Found 432 images belonging to 6 classes.\n",
      "Found 119 images belonging to 6 classes.\n"
     ]
    }
   ],
   "source": [
    "# Create batches\n",
    "train_batches = ImageDataGenerator(rescale=1. / 255).flow_from_directory(directory = train_path, target_size=(img_size,img_size), classes=classes, color_mode='grayscale',batch_size=10)\n",
    "valid_batches = ImageDataGenerator(rescale=1. / 255).flow_from_directory(directory = valid_path, target_size=(img_size,img_size), classes=classes, color_mode='grayscale', batch_size=10)"
   ]
  },
  {
   "cell_type": "markdown",
   "id": "e699c66b",
   "metadata": {
    "id": "e699c66b"
   },
   "source": [
    "### 2 - Visualisations :"
   ]
  },
  {
   "cell_type": "code",
   "execution_count": null,
   "id": "9e362945",
   "metadata": {
    "id": "9e362945"
   },
   "outputs": [],
   "source": [
    "def plotImages(images_arr):\n",
    "    fig, axes = plt.subplots(2,5, figsize=(10,10))\n",
    "    axes = axes.flatten()\n",
    "    for img, ax in zip(images_arr, axes):\n",
    "        ax.imshow(img[:,:,0], cmap='gray')\n",
    "        ax.axis('off')\n",
    "    plt.tight_layout()\n",
    "    plt.show()"
   ]
  },
  {
   "cell_type": "code",
   "execution_count": null,
   "id": "73c70729",
   "metadata": {
    "colab": {
     "base_uri": "https://localhost:8080/",
     "height": 632
    },
    "id": "73c70729",
    "outputId": "86e5e500-1c19-4a69-c75b-e4b60325b675"
   },
   "outputs": [
    {
     "data": {
      "image/png": "[encoded data removed]",
      "text/plain": [
       "<Figure size 720x720 with 10 Axes>"
      ]
     },
     "metadata": {
      "needs_background": "light"
     },
     "output_type": "display_data"
    },
    {
     "name": "stdout",
     "output_type": "stream",
     "text": [
      "Labels :\n",
      "[[0. 0. 0. 0. 0. 1.]\n",
      " [0. 0. 1. 0. 0. 0.]\n",
      " [0. 0. 0. 1. 0. 0.]\n",
      " [0. 0. 0. 0. 0. 1.]\n",
      " [0. 1. 0. 0. 0. 0.]\n",
      " [0. 0. 0. 0. 0. 1.]\n",
      " [0. 0. 1. 0. 0. 0.]\n",
      " [0. 0. 0. 0. 0. 1.]\n",
      " [0. 0. 0. 0. 1. 0.]\n",
      " [0. 0. 1. 0. 0. 0.]]\n"
     ]
    }
   ],
   "source": [
    "imgs, labels = next(valid_batches)\n",
    "plotImages(imgs)\n",
    "print('Labels :')\n",
    "print(labels)"
   ]
  },
  {
   "cell_type": "markdown",
   "id": "6ba0cad5",
   "metadata": {
    "id": "6ba0cad5"
   },
   "source": [
    "## II - Construct the model :"
   ]
  },
  {
   "cell_type": "code",
   "execution_count": null,
   "id": "82069b57",
   "metadata": {
    "id": "82069b57"
   },
   "outputs": [],
   "source": [
    "# Convolutional layer\n",
    "model = tf.keras.Sequential()\n",
    "\n",
    "model.add(layers.Conv2D(32, kernel_size=(3,3), activation=\"relu\", padding='same',input_shape=[img_size, img_size,1]))\n",
    "model.add(layers.MaxPooling2D(2))\n",
    "model.add(layers.Conv2D(64, kernel_size=(3,3), activation=\"relu\", padding='same'))\n",
    "model.add(layers.MaxPooling2D(2))\n",
    "model.add(layers.Conv2D(64, (3, 3), activation=\"relu\", padding='same'))\n",
    "model.add(layers.MaxPooling2D(2))"
   ]
  },
  {
   "cell_type": "code",
   "execution_count": null,
   "id": "5b299488",
   "metadata": {
    "id": "5b299488"
   },
   "outputs": [],
   "source": [
    "# Dense layer\n",
    "model.add(layers.Flatten())\n",
    "model.add(layers.Dense(128, activation='relu'))\n",
    "model.add(layers.Dropout(0.5))\n",
    "model.add(layers.Dense(6, activation='softmax'))"
   ]
  },
  {
   "cell_type": "code",
   "execution_count": null,
   "id": "f3cf4a7f",
   "metadata": {
    "colab": {
     "base_uri": "https://localhost:8080/"
    },
    "id": "f3cf4a7f",
    "outputId": "bd144066-1da2-4eaf-e11a-7620a9cd3548"
   },
   "outputs": [
    {
     "name": "stdout",
     "output_type": "stream",
     "text": [
      "Model: \"sequential\"\n",
      "_________________________________________________________________\n",
      " Layer (type)                Output Shape              Param #   \n",
      "=================================================================\n",
      " conv2d (Conv2D)             (None, 40, 40, 32)        320       \n",
      "                                                                 \n",
      " max_pooling2d (MaxPooling2D  (None, 20, 20, 32)       0         \n",
      " )                                                               \n",
      "                                                                 \n",
      " conv2d_1 (Conv2D)           (None, 20, 20, 64)        18496     \n",
      "                                                                 \n",
      " max_pooling2d_1 (MaxPooling  (None, 10, 10, 64)       0         \n",
      " 2D)                                                             \n",
      "                                                                 \n",
      " conv2d_2 (Conv2D)           (None, 10, 10, 64)        36928     \n",
      "                                                                 \n",
      " max_pooling2d_2 (MaxPooling  (None, 5, 5, 64)         0         \n",
      " 2D)                                                             \n",
      "                                                                 \n",
      " flatten (Flatten)           (None, 1600)              0         \n",
      "                                                                 \n",
      " dense (Dense)               (None, 128)               204928    \n",
      "                                                                 \n",
      " dropout (Dropout)           (None, 128)               0         \n",
      "                                                                 \n",
      " dense_1 (Dense)             (None, 6)                 774       \n",
      "                                                                 \n",
      "=================================================================\n",
      "Total params: 261,446\n",
      "Trainable params: 261,446\n",
      "Non-trainable params: 0\n",
      "_________________________________________________________________\n"
     ]
    }
   ],
   "source": [
    "model.summary()"
   ]
  },
  {
   "cell_type": "code",
   "execution_count": null,
   "id": "a66ce206",
   "metadata": {
    "id": "a66ce206"
   },
   "outputs": [],
   "source": [
    "# Compile the model\n",
    "model.compile(optimizer='Adam',\n",
    "              loss='categorical_crossentropy',\n",
    "              metrics=['accuracy'])"
   ]
  },
  {
   "cell_type": "code",
   "execution_count": null,
   "id": "_FNMCWU5s6kj",
   "metadata": {
    "id": "_FNMCWU5s6kj"
   },
   "outputs": [],
   "source": [
    "# Callbacks list with Early Stopping to avoid overfitting\n",
    "early_stop = EarlyStopping(monitor='val_loss', patience=3)\n",
    "callbacks_list = [early_stop]"
   ]
  },
  {
   "cell_type": "code",
   "execution_count": null,
   "id": "1d7051cb",
   "metadata": {
    "colab": {
     "base_uri": "https://localhost:8080/"
    },
    "id": "1d7051cb",
    "outputId": "6d6660c0-0396-4534-95ae-087261667824"
   },
   "outputs": [
    {
     "name": "stdout",
     "output_type": "stream",
     "text": [
      "Epoch 1/20\n",
      "44/44 [==============================] - 20s 340ms/step - loss: 1.7915 - accuracy: 0.1921 - val_loss: 1.7957 - val_accuracy: 0.1681\n",
      "Epoch 2/20\n",
      "44/44 [==============================] - 8s 180ms/step - loss: 1.7817 - accuracy: 0.1759 - val_loss: 1.8464 - val_accuracy: 0.1597\n",
      "Epoch 3/20\n",
      "44/44 [==============================] - 8s 170ms/step - loss: 1.7798 - accuracy: 0.1944 - val_loss: 1.7981 - val_accuracy: 0.1429\n",
      "Epoch 4/20\n",
      "44/44 [==============================] - 8s 179ms/step - loss: 1.7667 - accuracy: 0.2245 - val_loss: 1.7847 - val_accuracy: 0.1261\n",
      "Epoch 5/20\n",
      "44/44 [==============================] - 8s 182ms/step - loss: 1.7275 - accuracy: 0.2431 - val_loss: 1.7658 - val_accuracy: 0.1933\n",
      "Epoch 6/20\n",
      "44/44 [==============================] - 8s 181ms/step - loss: 1.6344 - accuracy: 0.3241 - val_loss: 1.7065 - val_accuracy: 0.2941\n",
      "Epoch 7/20\n",
      "44/44 [==============================] - 8s 179ms/step - loss: 1.6024 - accuracy: 0.3634 - val_loss: 1.6655 - val_accuracy: 0.3361\n",
      "Epoch 8/20\n",
      "44/44 [==============================] - 8s 169ms/step - loss: 1.4717 - accuracy: 0.4074 - val_loss: 1.5738 - val_accuracy: 0.3361\n",
      "Epoch 9/20\n",
      "44/44 [==============================] - 8s 183ms/step - loss: 1.3884 - accuracy: 0.4375 - val_loss: 1.5389 - val_accuracy: 0.3445\n",
      "Epoch 10/20\n",
      "44/44 [==============================] - 8s 184ms/step - loss: 1.2551 - accuracy: 0.5069 - val_loss: 1.5774 - val_accuracy: 0.4454\n",
      "Epoch 11/20\n",
      "44/44 [==============================] - 8s 181ms/step - loss: 1.1908 - accuracy: 0.5532 - val_loss: 1.5431 - val_accuracy: 0.3866\n",
      "Epoch 12/20\n",
      "44/44 [==============================] - 9s 198ms/step - loss: 1.0726 - accuracy: 0.5532 - val_loss: 1.4477 - val_accuracy: 0.4370\n",
      "Epoch 13/20\n",
      "44/44 [==============================] - 10s 223ms/step - loss: 0.9533 - accuracy: 0.6505 - val_loss: 1.5834 - val_accuracy: 0.4538\n",
      "Epoch 14/20\n",
      "44/44 [==============================] - 8s 184ms/step - loss: 0.9007 - accuracy: 0.6458 - val_loss: 1.5174 - val_accuracy: 0.4454\n",
      "Epoch 15/20\n",
      "44/44 [==============================] - 8s 181ms/step - loss: 0.7958 - accuracy: 0.6991 - val_loss: 1.5767 - val_accuracy: 0.4454\n"
     ]
    }
   ],
   "source": [
    "# Fit the model\n",
    "history = model.fit(x=train_batches, validation_data=valid_batches, epochs=20, callbacks = callbacks_list ,verbose=1)"
   ]
  },
  {
   "cell_type": "markdown",
   "id": "9c93a2d3",
   "metadata": {
    "id": "9c93a2d3"
   },
   "source": [
    "### Evaluate the model :"
   ]
  },
  {
   "cell_type": "code",
   "execution_count": null,
   "id": "OHWqOBZTscOk",
   "metadata": {
    "colab": {
     "base_uri": "https://localhost:8080/"
    },
    "id": "OHWqOBZTscOk",
    "outputId": "93042b8e-bd7b-4b60-b00b-6464a3a20d17"
   },
   "outputs": [
    {
     "name": "stdout",
     "output_type": "stream",
     "text": [
      "12/12 [==============================] - 1s 125ms/step - loss: 1.5767 - accuracy: 0.4454\n",
      "Accuracy on validation set : 44.54 %\n"
     ]
    }
   ],
   "source": [
    "acc = model.evaluate(valid_batches)[1]\n",
    "print('Accuracy on validation set :',round(acc*100,2),'%')"
   ]
  },
  {
   "cell_type": "code",
   "execution_count": null,
   "id": "0SWBR1b7sBGy",
   "metadata": {
    "colab": {
     "base_uri": "https://localhost:8080/",
     "height": 269
    },
    "id": "0SWBR1b7sBGy",
    "outputId": "d305ab7d-3949-4789-8361-a8ce43cf07ad"
   },
   "outputs": [
    {
     "data": {
      "image/png": "[encoded data removed]",
      "text/plain": [
       "<Figure size 432x288 with 2 Axes>"
      ]
     },
     "metadata": {
      "needs_background": "light"
     },
     "output_type": "display_data"
    }
   ],
   "source": [
    "# Confusion matrix\n",
    "from sklearn.metrics import confusion_matrix\n",
    "\n",
    "y_pred = np.argmax(model.predict(valid_batches), axis=-1)\n",
    "conf = confusion_matrix(y_pred,valid_batches.labels)\n",
    "sns.heatmap(conf, annot=True, cmap='Blues', yticklabels=classes, xticklabels=classes)\n",
    "plt.show()"
   ]
  },
  {
   "cell_type": "code",
   "execution_count": null,
   "id": "630346cd",
   "metadata": {
    "colab": {
     "base_uri": "https://localhost:8080/",
     "height": 388
    },
    "id": "630346cd",
    "outputId": "5f5a897d-b27f-4694-8c18-ad9b188ad664"
   },
   "outputs": [
    {
     "data": {
      "image/png": "[encoded data removed]",
      "text/plain": [
       "<Figure size 576x432 with 1 Axes>"
      ]
     },
     "metadata": {
      "needs_background": "light"
     },
     "output_type": "display_data"
    }
   ],
   "source": [
    "plt.figure(figsize=(8,6))\n",
    "\n",
    "plt.plot(history.history['accuracy'], label='accuracy')\n",
    "plt.plot(history.history['val_accuracy'], label = 'val_accuracy')\n",
    "\n",
    "plt.plot(history.history['loss'], label='loss')\n",
    "plt.plot(history.history['val_loss'], label = 'val_loss')\n",
    "\n",
    "plt.xlabel('Epoch')\n",
    "\n",
    "plt.legend()\n",
    "plt.grid(True)\n",
    "\n",
    "plt.show()"
   ]
  },
  {
   "cell_type": "markdown",
   "id": "f44e986f",
   "metadata": {
    "id": "f44e986f"
   },
   "source": [
    "## III - Make predictions :"
   ]
  },
  {
   "cell_type": "code",
   "execution_count": null,
   "id": "kNES-shYQ5y7",
   "metadata": {
    "id": "kNES-shYQ5y7"
   },
   "outputs": [],
   "source": [
    "# Save the model\n",
    "#model.save('/content/sample_data/Chess_Model')\n",
    "#shutil.make_archive('Chess_Model', 'zip', '/content/sample_data/Chess_Model')"
   ]
  },
  {
   "cell_type": "markdown",
   "id": "9I5dZSiNagRf",
   "metadata": {
    "id": "9I5dZSiNagRf"
   },
   "source": [
    "### Load The Model & Make some Predictions :"
   ]
  },
  {
   "cell_type": "code",
   "execution_count": null,
   "id": "SNNNGgNxVf9D",
   "metadata": {
    "id": "SNNNGgNxVf9D"
   },
   "outputs": [],
   "source": [
    "def make_prediction(model, path_image, true_label):\n",
    "  # Load the image\n",
    "  image_open = open(path_image, 'rb')\n",
    "  read_image = image_open.read()\n",
    "  # Decode the image\n",
    "  image_decode = tf.image.decode_jpeg(read_image, channels=1)\n",
    "  # Resize the image\n",
    "  resize_image = tf.image.resize(image_decode, [img_size, img_size])/255.0\n",
    "  img = np.array(resize_image).reshape(img_size,img_size)\n",
    "  # Plot the image\n",
    "  plt.imshow(img, cmap='gray')\n",
    "  plt.title(true_label)\n",
    "  plt.axis('off')\n",
    "  plt.show()\n",
    "  # Reshape the image for the model input\n",
    "  img = img.reshape(1,img_size,img_size,1)\n",
    "  # Make Prediction\n",
    "  arg_pred = np.argmax(my_model.predict(img))\n",
    "  pred = classes[arg_pred]\n",
    "  print(\"The predicted class of the image :\",pred)\n",
    "  print('-'*30)\n",
    "  if pred == true_label:\n",
    "    print('The model has made a good prediction.')\n",
    "  else:\n",
    "    print(\"The model didn't perform well on this image.\" )\n"
   ]
  },
  {
   "cell_type": "code",
   "execution_count": null,
   "id": "fczfW565Rd-8",
   "metadata": {
    "id": "fczfW565Rd-8"
   },
   "outputs": [],
   "source": [
    "# Load the Model\n",
    "#my_model = keras.models.load_model(\"/content/sample_data/Chess_Model\")\n",
    "my_model = model"
   ]
  },
  {
   "cell_type": "code",
   "execution_count": null,
   "id": "0awxpG3fhkkZ",
   "metadata": {
    "colab": {
     "base_uri": "https://localhost:8080/",
     "height": 316
    },
    "id": "0awxpG3fhkkZ",
    "outputId": "01064bf7-93c7-4b1f-a281-0144e4d3cef1"
   },
   "outputs": [
    {
     "data": {
      "image/png": "[encoded data removed]",
      "text/plain": [
       "<Figure size 432x288 with 1 Axes>"
      ]
     },
     "metadata": {
      "needs_background": "light"
     },
     "output_type": "display_data"
    },
    {
     "name": "stdout",
     "output_type": "stream",
     "text": [
      "The predicted class of the image : Rook\n",
      "------------------------------\n",
      "The model has made a good prediction.\n"
     ]
    }
   ],
   "source": [
    "make_prediction(my_model, '/content/rook.jpg', 'Rook')"
   ]
  },
  {
   "cell_type": "code",
   "execution_count": null,
   "id": "ETbgFZDP7oF7",
   "metadata": {
    "colab": {
     "base_uri": "https://localhost:8080/",
     "height": 316
    },
    "id": "ETbgFZDP7oF7",
    "outputId": "4d4fae64-1efa-4f34-874a-c275c793f179"
   },
   "outputs": [
    {
     "data": {
      "image/png": "[encoded data removed]",
      "text/plain": [
       "<Figure size 432x288 with 1 Axes>"
      ]
     },
     "metadata": {
      "needs_background": "light"
     },
     "output_type": "display_data"
    },
    {
     "name": "stdout",
     "output_type": "stream",
     "text": [
      "The predicted class of the image : Knight\n",
      "------------------------------\n",
      "The model has made a good prediction.\n"
     ]
    }
   ],
   "source": [
    "make_prediction(my_model, '/content/knight.jpg', 'Knight')"
   ]
  },
  {
   "cell_type": "code",
   "execution_count": null,
   "id": "woV_SQM98PrZ",
   "metadata": {
    "colab": {
     "base_uri": "https://localhost:8080/",
     "height": 316
    },
    "id": "woV_SQM98PrZ",
    "outputId": "0acc5216-d996-4cec-fb43-cbdab4458f0b"
   },
   "outputs": [
    {
     "data": {
      "image/png": "[encoded data removed]",
      "text/plain": [
       "<Figure size 432x288 with 1 Axes>"
      ]
     },
     "metadata": {
      "needs_background": "light"
     },
     "output_type": "display_data"
    },
    {
     "name": "stdout",
     "output_type": "stream",
     "text": [
      "The predicted class of the image : Pawn\n",
      "------------------------------\n",
      "The model has made a good prediction.\n"
     ]
    }
   ],
   "source": [
    "make_prediction(my_model, '/content/pawn2.jpg', 'Pawn')"
   ]
  },
  {
   "cell_type": "code",
   "execution_count": null,
   "id": "2maac6qA8Zyg",
   "metadata": {
    "colab": {
     "base_uri": "https://localhost:8080/",
     "height": 316
    },
    "id": "2maac6qA8Zyg",
    "outputId": "e802f488-994e-4872-fe68-62ab452766e2"
   },
   "outputs": [
    {
     "data": {
      "image/png": "[encoded data removed]",
      "text/plain": [
       "<Figure size 432x288 with 1 Axes>"
      ]
     },
     "metadata": {
      "needs_background": "light"
     },
     "output_type": "display_data"
    },
    {
     "name": "stdout",
     "output_type": "stream",
     "text": [
      "The predicted class of the image : Pawn\n",
      "------------------------------\n",
      "The model has made a good prediction.\n"
     ]
    }
   ],
   "source": [
    "make_prediction(my_model, '/content/pawn3.jpg', 'Pawn')"
   ]
  },
  {
   "cell_type": "code",
   "execution_count": null,
   "id": "mNgLudoMC7G8",
   "metadata": {
    "colab": {
     "base_uri": "https://localhost:8080/",
     "height": 316
    },
    "id": "mNgLudoMC7G8",
    "outputId": "7847366f-5cfb-4aa1-ae2e-c50d70fefcfa"
   },
   "outputs": [
    {
     "data": {
      "image/png": "[encoded data removed]",
      "text/plain": [
       "<Figure size 432x288 with 1 Axes>"
      ]
     },
     "metadata": {
      "needs_background": "light"
     },
     "output_type": "display_data"
    },
    {
     "name": "stdout",
     "output_type": "stream",
     "text": [
      "The predicted class of the image : Knight\n",
      "------------------------------\n",
      "The model has made a good prediction.\n"
     ]
    }
   ],
   "source": [
    "make_prediction(my_model, '/content/knight2.jpg', 'Knight')"
   ]
  },
  {
   "cell_type": "code",
   "execution_count": null,
   "id": "I41ior66E97f",
   "metadata": {
    "colab": {
     "base_uri": "https://localhost:8080/",
     "height": 316
    },
    "id": "I41ior66E97f",
    "outputId": "0648943a-9e04-4302-b1d9-19173f2e2b99"
   },
   "outputs": [
    {
     "data": {
      "image/png": "[encoded data removed]",
      "text/plain": [
       "<Figure size 432x288 with 1 Axes>"
      ]
     },
     "metadata": {
      "needs_background": "light"
     },
     "output_type": "display_data"
    },
    {
     "name": "stdout",
     "output_type": "stream",
     "text": [
      "The predicted class of the image : Bishop\n",
      "------------------------------\n",
      "The model has made a good prediction.\n"
     ]
    }
   ],
   "source": [
    "make_prediction(my_model, '/content/bishop.jpg', 'Bishop')"
   ]
  },
  {
   "cell_type": "code",
   "execution_count": null,
   "id": "x3VX1tmgJ3BK",
   "metadata": {
    "colab": {
     "base_uri": "https://localhost:8080/",
     "height": 316
    },
    "id": "x3VX1tmgJ3BK",
    "outputId": "f07144a8-a1b2-4269-d332-650a807b115f"
   },
   "outputs": [
    {
     "data": {
      "image/png": "[encoded data removed]",
      "text/plain": [
       "<Figure size 432x288 with 1 Axes>"
      ]
     },
     "metadata": {
      "needs_background": "light"
     },
     "output_type": "display_data"
    },
    {
     "name": "stdout",
     "output_type": "stream",
     "text": [
      "The predicted class of the image : Rook\n",
      "------------------------------\n",
      "The model didn't perform well on this image.\n"
     ]
    }
   ],
   "source": [
    "make_prediction(my_model, '/content/pawn.jpeg', 'Pawn')"
   ]
  },
  {
   "cell_type": "code",
   "execution_count": null,
   "id": "QdnQ1wc92Ywb",
   "metadata": {
    "id": "QdnQ1wc92Ywb"
   },
   "outputs": [],
   "source": []
  }
 ],
 "metadata": {
  "accelerator": "GPU",
  "colab": {
   "collapsed_sections": [],
   "name": "CNN_ChessDataset.ipynb",
   "provenance": []
  },
  "kernelspec": {
   "display_name": "Python 3 (ipykernel)",
   "language": "python",
   "name": "python3"
  },
  "language_info": {
   "codemirror_mode": {
    "name": "ipython",
    "version": 3
   },
   "file_extension": ".py",
   "mimetype": "text/x-python",
   "name": "python",
   "nbconvert_exporter": "python",
   "pygments_lexer": "ipython3",
   "version": "3.9.5"
  }
 },
 "nbformat": 4,
 "nbformat_minor": 5
}
